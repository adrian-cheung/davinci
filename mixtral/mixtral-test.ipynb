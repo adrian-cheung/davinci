{
 "cells": [
  {
   "cell_type": "code",
   "execution_count": 1,
   "metadata": {
    "tags": []
   },
   "outputs": [],
   "source": [
    "import os\n",
    "os.environ['HF_HOME'] = '~/scratch/.cache/huggingface/'"
   ]
  },
  {
   "cell_type": "code",
   "execution_count": 2,
   "metadata": {
    "tags": []
   },
   "outputs": [
    {
     "name": "stderr",
     "output_type": "stream",
     "text": [
      "/home/hice1/acheung46/scratch/miniforge3/envs/mixtral/lib/python3.12/site-packages/tqdm/auto.py:21: TqdmWarning: IProgress not found. Please update jupyter and ipywidgets. See https://ipywidgets.readthedocs.io/en/stable/user_install.html\n",
      "  from .autonotebook import tqdm as notebook_tqdm\n",
      "Loading checkpoint shards: 100%|██████████| 19/19 [23:00<00:00, 72.64s/it]\n",
      "WARNING:root:Some parameters are on the meta device device because they were offloaded to the cpu.\n"
     ]
    }
   ],
   "source": [
    "import torch\n",
    "from transformers import AutoModelForCausalLM, AutoTokenizer\n",
    "\n",
    "model_id = \"mistralai/Mixtral-8x7B-Instruct-v0.1\"\n",
    "tokenizer = AutoTokenizer.from_pretrained(model_id)\n",
    "\n",
    "model = AutoModelForCausalLM.from_pretrained(model_id, torch_dtype=torch.float16, device_map=\"auto\")"
   ]
  },
  {
   "cell_type": "code",
   "execution_count": 34,
   "metadata": {},
   "outputs": [],
   "source": [
    "prompt = \"In the following image description, which keywords may show up as text in the image? There may be none. Be concise.\"\n",
    "captions = [\n",
    "    \"a swimming pool with a warning sign about no running\",\n",
    "    \"person reading Georgia Tech Times newspaper on couch, drinking a can of Cola soda, home background, warm lighting, high quality\",\n",
    "    \"funny cartoon cat draws mouse on board, digital art, trending on artstation\",\n",
    "]\n",
    "keywords = [\n",
    "    \"[warning, no running]\",\n",
    "    \"[Georgia Tech Times, Cola]\",\n",
    "    \"[]\",\n",
    "]\n",
    "\n",
    "messages = []\n",
    "for i in range(len(captions)):\n",
    "    messages.append({\"role\": \"user\", \"content\": f\"{prompt} \\\"{captions[i]}\\\"\"})\n",
    "    messages.append({\"role\": \"assistant\", \"content\": f\"keywords: {keywords[i]}\"})"
   ]
  },
  {
   "cell_type": "code",
   "execution_count": 35,
   "metadata": {},
   "outputs": [],
   "source": [
    "in_caption = \"photograph of a street with a yield sign on the left and stop sign on right, with a dog painting 'happy birthday' in center, golden hour lighting, beautiful sky, 4k\"\n",
    "messages.append({\"role\": \"user\", \"content\": f\"{prompt} \\\"{in_caption}\\\"\"})"
   ]
  },
  {
   "cell_type": "code",
   "execution_count": 36,
   "metadata": {},
   "outputs": [
    {
     "name": "stderr",
     "output_type": "stream",
     "text": [
      "The attention mask and the pad token id were not set. As a consequence, you may observe unexpected behavior. Please pass your input's `attention_mask` to obtain reliable results.\n",
      "Setting `pad_token_id` to `eos_token_id`:2 for open-end generation.\n"
     ]
    },
    {
     "data": {
      "text/plain": [
       "'[INST] In the following image description, which keywords may show up as text in the image? There may be none. Be concise. \"a swimming pool with a warning sign about no running\" [/INST]keywords: [warning, no running] [INST] In the following image description, which keywords may show up as text in the image? There may be none. Be concise. \"person reading Georgia Tech Times newspaper on couch, drinking a can of Cola soda, home background, warm lighting, high quality\" [/INST]keywords: [Georgia Tech Times, Cola] [INST] In the following image description, which keywords may show up as text in the image? There may be none. Be concise. \"funny cartoon cat draws mouse on board, digital art, trending on artstation\" [/INST]keywords: [] [INST] In the following image description, which keywords may show up as text in the image? There may be none. Be concise. \"photograph of a street with a yield sign on the left and stop sign on right, with a dog painting \\'happy birthday\\' in center, golden hour lighting, beautiful sky, 4k\" [/INST]keywords: [yield, stop, happy birthday]'"
      ]
     },
     "execution_count": 36,
     "metadata": {},
     "output_type": "execute_result"
    }
   ],
   "source": [
    "input_ids = tokenizer.apply_chat_template(messages, return_tensors=\"pt\").to(\"cuda\")\n",
    "\n",
    "outputs = model.generate(input_ids, max_new_tokens=20)\n",
    "decoded = tokenizer.decode(outputs[0], skip_special_tokens=True)\n",
    "decoded"
   ]
  },
  {
   "cell_type": "code",
   "execution_count": 37,
   "metadata": {
    "tags": []
   },
   "outputs": [
    {
     "data": {
      "text/plain": [
       "['yield', 'stop', 'happy birthday']"
      ]
     },
     "execution_count": 37,
     "metadata": {},
     "output_type": "execute_result"
    }
   ],
   "source": [
    "cleaned = decoded.rsplit('[/INST]', 1)[1]\n",
    "cleaned = cleaned.split('[')[1].split(']')[0]\n",
    "out_keywords = [word.strip() for word in cleaned.split(',')]\n",
    "out_keywords"
   ]
  }
 ],
 "metadata": {
  "kernelspec": {
   "display_name": "Python [conda env:miniforge3-mixtral]",
   "language": "python",
   "name": "conda-env-miniforge3-mixtral-py"
  },
  "language_info": {
   "codemirror_mode": {
    "name": "ipython",
    "version": 3
   },
   "file_extension": ".py",
   "mimetype": "text/x-python",
   "name": "python",
   "nbconvert_exporter": "python",
   "pygments_lexer": "ipython3",
   "version": "3.12.3"
  }
 },
 "nbformat": 4,
 "nbformat_minor": 4
}
